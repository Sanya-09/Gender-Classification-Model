{
 "cells": [
  {
   "cell_type": "code",
   "execution_count": 17,
   "id": "b6d96c20-c92c-43d2-ba38-17684dfcdd7c",
   "metadata": {},
   "outputs": [],
   "source": [
    "import os\n",
    "import cv2\n",
    "import numpy as np\n",
    "import pandas as pd\n",
    "import matplotlib.pyplot as plt\n",
    "from sklearn.model_selection import train_test_split\n",
    "from sklearn.metrics import accuracy_score, classification_report, confusion_matrix\n",
    "from tensorflow.keras.models import Sequential\n",
    "from tensorflow.keras.layers import Conv2D, MaxPooling2D, Flatten, Dense, Dropout, BatchNormalization\n",
    "from tensorflow.keras.callbacks import EarlyStopping\n",
    "from tensorflow.keras.utils import to_categorical\n",
    "from sklearn.preprocessing import LabelBinarizer"
   ]
  },
  {
   "cell_type": "code",
   "execution_count": 18,
   "id": "b005d0f1-70d0-4feb-80e7-b7bb0d10e4f5",
   "metadata": {},
   "outputs": [],
   "source": [
    "path = os.listdir('C:/Users/garvm/OneDrive/Desktop/genderdatas/train')\n",
    "classes = {'Female' : 0 , 'Male' : 1}"
   ]
  },
  {
   "cell_type": "code",
   "execution_count": 19,
   "id": "781a4d68-4e30-40c0-be9c-94def321985b",
   "metadata": {},
   "outputs": [],
   "source": [
    "X = []\n",
    "Y = []\n",
    "for cls in classes:\n",
    "    subpath = 'C:/Users/garvm/OneDrive/Desktop/genderdatas/train/'+cls\n",
    "    for j in os.listdir(subpath):\n",
    "        img_path = os.path.join(subpath, j)\n",
    "        img = cv2.imread(img_path, cv2.IMREAD_GRAYSCALE)  \n",
    "        if img is not None:\n",
    "            img = cv2.resize(img, (100, 100))\n",
    "            img = img.reshape(100, 100, 1)\n",
    "            X.append(img)\n",
    "            Y.append(classes[cls])\n"
   ]
  },
  {
   "cell_type": "code",
   "execution_count": 20,
   "id": "117702ba-77ed-4c7e-9795-c5d6ea39d5c3",
   "metadata": {},
   "outputs": [
    {
     "name": "stdout",
     "output_type": "stream",
     "text": [
      "Class distribution: 0    3000\n",
      "1    3000\n",
      "Name: count, dtype: int64\n"
     ]
    }
   ],
   "source": [
    "X = np.array(X)\n",
    "Y = np.array(Y)\n",
    "print(\"Class distribution:\", pd.Series(Y).value_counts())\n"
   ]
  },
  {
   "cell_type": "code",
   "execution_count": 21,
   "id": "49112139-65ba-4605-9e59-d156624a1c44",
   "metadata": {},
   "outputs": [],
   "source": [
    "X = X.astype('float32') / 255.0"
   ]
  },
  {
   "cell_type": "code",
   "execution_count": 22,
   "id": "a67005db-52bd-4cdf-b04d-295045fce701",
   "metadata": {},
   "outputs": [],
   "source": [
    "lb = LabelBinarizer()\n",
    "Y = lb.fit_transform(Y)\n",
    "Y = to_categorical(Y)\n"
   ]
  },
  {
   "cell_type": "code",
   "execution_count": 23,
   "id": "f5804a49-e945-48d1-8309-1a956f30154f",
   "metadata": {},
   "outputs": [],
   "source": [
    "xtrain, xtest, ytrain, ytest = train_test_split(X, Y, random_state=10, test_size=0.20, stratify=Y)\n"
   ]
  },
  {
   "cell_type": "code",
   "execution_count": 24,
   "id": "c587d7e7-e58b-4a46-ad9f-5cbd0d80eb61",
   "metadata": {},
   "outputs": [
    {
     "name": "stderr",
     "output_type": "stream",
     "text": [
      "C:\\Users\\garvm\\AppData\\Local\\Programs\\Python\\Python312\\Lib\\site-packages\\keras\\src\\layers\\convolutional\\base_conv.py:107: UserWarning: Do not pass an `input_shape`/`input_dim` argument to a layer. When using Sequential models, prefer using an `Input(shape)` object as the first layer in the model instead.\n",
      "  super().__init__(activity_regularizer=activity_regularizer, **kwargs)\n"
     ]
    }
   ],
   "source": [
    "model = Sequential()\n",
    "model.add(Conv2D(32, (3, 3), activation='relu', input_shape=(100, 100, 1)))\n",
    "model.add(MaxPooling2D(pool_size=(2, 2)))\n",
    "model.add(BatchNormalization())\n",
    "model.add(Conv2D(64, (3, 3), activation='relu'))\n",
    "model.add(MaxPooling2D(pool_size=(2, 2)))\n",
    "model.add(BatchNormalization())\n",
    "model.add(Conv2D(128, (3, 3), activation='relu'))\n",
    "model.add(MaxPooling2D(pool_size=(2, 2)))\n",
    "model.add(BatchNormalization())\n",
    "model.add(Flatten())\n",
    "model.add(Dense(128, activation='relu'))\n",
    "model.add(Dropout(0.5))\n",
    "model.add(Dense(2, activation='softmax'))\n",
    "\n",
    "model.compile(optimizer='adam', loss='categorical_crossentropy', metrics=['accuracy'])\n"
   ]
  },
  {
   "cell_type": "code",
   "execution_count": null,
   "id": "d526e96b-11ee-432f-b380-9f08993fa60b",
   "metadata": {},
   "outputs": [
    {
     "name": "stdout",
     "output_type": "stream",
     "text": [
      "Epoch 1/30\n",
      "\u001b[1m150/150\u001b[0m \u001b[32m━━━━━━━━━━━━━━━━━━━━\u001b[0m\u001b[37m\u001b[0m \u001b[1m47s\u001b[0m 278ms/step - accuracy: 0.7376 - loss: 1.0534 - val_accuracy: 0.6550 - val_loss: 0.5903\n",
      "Epoch 2/30\n",
      "\u001b[1m150/150\u001b[0m \u001b[32m━━━━━━━━━━━━━━━━━━━━\u001b[0m\u001b[37m\u001b[0m \u001b[1m79s\u001b[0m 261ms/step - accuracy: 0.9102 - loss: 0.2374 - val_accuracy: 0.8092 - val_loss: 0.4122\n",
      "Epoch 3/30\n",
      "\u001b[1m150/150\u001b[0m \u001b[32m━━━━━━━━━━━━━━━━━━━━\u001b[0m\u001b[37m\u001b[0m \u001b[1m42s\u001b[0m 281ms/step - accuracy: 0.9542 - loss: 0.1393 - val_accuracy: 0.9258 - val_loss: 0.1808\n",
      "Epoch 4/30\n",
      "\u001b[1m150/150\u001b[0m \u001b[32m━━━━━━━━━━━━━━━━━━━━\u001b[0m\u001b[37m\u001b[0m \u001b[1m42s\u001b[0m 279ms/step - accuracy: 0.9682 - loss: 0.0816 - val_accuracy: 0.9317 - val_loss: 0.1990\n",
      "Epoch 5/30\n",
      "\u001b[1m150/150\u001b[0m \u001b[32m━━━━━━━━━━━━━━━━━━━━\u001b[0m\u001b[37m\u001b[0m \u001b[1m40s\u001b[0m 269ms/step - accuracy: 0.9734 - loss: 0.0768 - val_accuracy: 0.9408 - val_loss: 0.1895\n",
      "Epoch 6/30\n",
      "\u001b[1m 28/150\u001b[0m \u001b[32m━━━\u001b[0m\u001b[37m━━━━━━━━━━━━━━━━━\u001b[0m \u001b[1m29s\u001b[0m 242ms/step - accuracy: 0.9723 - loss: 0.0629"
     ]
    }
   ],
   "source": [
    "early_stopping = EarlyStopping(monitor='val_loss', patience=5, restore_best_weights=True)\n",
    "\n",
    "history = model.fit(xtrain, ytrain,epochs=30,batch_size=32,validation_data=(xtest, ytest),callbacks=[early_stopping])\n",
    "\n",
    "test_loss, test_accuracy = model.evaluate(xtest, ytest)\n",
    "print(f\"Test Loss: {test_loss}\")\n",
    "print(f\"Test Accuracy: {test_accuracy}\")\n",
    "\n"
   ]
  },
  {
   "cell_type": "code",
   "execution_count": null,
   "id": "95bb4290-cafd-40e5-8090-838d924bbb81",
   "metadata": {},
   "outputs": [],
   "source": [
    "y_pred = model.predict(xtest)\n",
    "y_pred_classes = np.argmax(y_pred, axis=1)\n",
    "y_true = np.argmax(ytest, axis=1)"
   ]
  },
  {
   "cell_type": "code",
   "execution_count": null,
   "id": "83e0df8e-6302-41a7-acdc-1b6e84baea39",
   "metadata": {},
   "outputs": [],
   "source": [
    "print(\"\\nClassification Report:\\n\", classification_report(y_true, y_pred_classes))\n",
    "print(\"\\nConfusion Matrix:\\n\", confusion_matrix(y_true, y_pred_classes))"
   ]
  },
  {
   "cell_type": "code",
   "execution_count": null,
   "id": "4133c546-b581-4f66-9929-f40c86b536e2",
   "metadata": {},
   "outputs": [],
   "source": [
    "def predict_gender():\n",
    "    testimgpath = \"C:\\\\Users\\\\garvm\\\\OneDrive\\\\Desktop\\\\Pendrive data\\\\trip\\\\Himachal\\\\IMG20170603103433.jpg\"\n",
    "    # Read the image\n",
    "    img = cv2.imread(testimgpath, cv2.IMREAD_GRAYSCALE)\n",
    "    if img is None:\n",
    "        print(\"Error: Image not found or invalid\")\n",
    "        return\n",
    "\n",
    "    # Resize the image\n",
    "    img = cv2.resize(img, (100, 100))\n",
    "\n",
    "    # Reshape for model input\n",
    "    img = img.reshape(1, 100, 100, 1) / 255.0\n",
    "\n",
    "    # Make the prediction using your model\n",
    "    prediction = model.predict(img)\n",
    "    predicted_class = np.argmax(prediction)\n",
    "\n",
    "    if predicted_class == 0:\n",
    "        return 'Female'\n",
    "    else:\n",
    "        return 'Male'\n",
    "print(\"Predicted gender:\", predict_gender())        "
   ]
  },
  {
   "cell_type": "code",
   "execution_count": null,
   "id": "5c5c7437-dcd0-4978-86b2-9144db3b1372",
   "metadata": {},
   "outputs": [],
   "source": []
  }
 ],
 "metadata": {
  "kernelspec": {
   "display_name": "Python 3 (ipykernel)",
   "language": "python",
   "name": "python3"
  },
  "language_info": {
   "codemirror_mode": {
    "name": "ipython",
    "version": 3
   },
   "file_extension": ".py",
   "mimetype": "text/x-python",
   "name": "python",
   "nbconvert_exporter": "python",
   "pygments_lexer": "ipython3",
   "version": "3.12.3"
  }
 },
 "nbformat": 4,
 "nbformat_minor": 5
}
